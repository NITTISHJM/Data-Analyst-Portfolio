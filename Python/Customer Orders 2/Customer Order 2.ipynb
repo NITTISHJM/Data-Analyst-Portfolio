{
 "cells": [
  {
   "cell_type": "code",
   "execution_count": null,
   "id": "bbac54f8",
   "metadata": {},
   "outputs": [],
   "source": [
    "import pandas as pd\n",
    "import matplotlib.pyplot as plt\n",
    "import seaborn as sns\n",
    "\n",
    "file_path = 'C:/Users/ksa/Documents/project/Customer_Orders_Test_Exam.csv'\n",
    "\n",
    "df = pd.read_csv(file_path)\n",
    "df.columns = df.columns.str.replace(' ', '_')\n",
    "print(\"RAW columns:\", df.columns.tolist())"
   ]
  },
  {
   "cell_type": "code",
   "execution_count": null,
   "id": "faa01c1b",
   "metadata": {},
   "outputs": [],
   "source": [
    "if \"Customer_Name\" in df.columns:\n",
    "    df[\"Customer_Name\"] = df[\"Customer_Name\"].astype(str).str.replace(' ', '_').str.title()\n",
    "\n",
    "if \"Order_Date\" in df.columns:\n",
    "    df[\"Order_Date\"] = pd.to_datetime(df[\"Order_Date\"], errors='coerce')\n",
    "\n",
    "if \"Amount\" in df.columns:\n",
    "    df[\"Amount\"] = pd.to_numeric(df[\"Amount\"], errors='coerce')\n",
    "\n",
    "if \"Product_Category\" in df.columns:\n",
    "    df[\"Product_Category\"] = df[\"Product_Category\"].astype(str).str.title()\n",
    "\n",
    "df.dropna(subset=[\"Customer_Name\", \"Order_Date\", \"Amount\"], inplace=True)\n",
    "df.drop_duplicates(inplace=True)\n",
    "print(\"Processed columns:\", df.columns.tolist())\n",
    "df.to_csv('processed_orders.csv', index=False)"
   ]
  },
  {
   "cell_type": "code",
   "execution_count": null,
   "id": "5792f3d9",
   "metadata": {},
   "outputs": [],
   "source": [
    "# Load the dataset\n",
    "df = pd.read_csv('C:/Users/ksa/Documents/Python projects/practice/processed_orders.csv')\n",
    "print(df)"
   ]
  },
  {
   "cell_type": "code",
   "execution_count": null,
   "id": "ccae665a",
   "metadata": {},
   "outputs": [],
   "source": [
    "# total spend per customer and sort descending.\n",
    "Total_Spend = df.groupby('Customer_Name')['Amount'].transform('sum')\n",
    "Total_Spend = df.sort_values(by= 'Amount' , ascending=False)\n",
    "Total_Spend.to_csv('C:/Users/ksa/Documents/Python projects/practice/Total_Spend.csv', index=False)"
   ]
  },
  {
   "cell_type": "code",
   "execution_count": null,
   "id": "bc9a90c1",
   "metadata": {},
   "outputs": [],
   "source": [
    "# monthly sales using OrderDate and sum Amount.\n",
    "if 'Order_Date' in df.columns:\n",
    "    df['Order_Month'] = pd.to_datetime(df['Order_Date']).dt.to_period('M')\n",
    "    monthly_sales = df.groupby('Order_Month')['Amount'].sum().reset_index()\n",
    "    monthly_sales.to_csv('C:/Users/ksa/Documents/Python projects/practice/Monthly_Sales.csv', index=False)"
   ]
  },
  {
   "cell_type": "code",
   "execution_count": null,
   "id": "9c153336",
   "metadata": {},
   "outputs": [],
   "source": [
    "# for visualization\n",
    "sns.set(style=\"whitegrid\")\n",
    "\n",
    "# bar chart of top 10 customers by spend \n",
    "Top_10_Customers = Total_Spend.nlargest(10, 'Amount')\n",
    "plt.figure(figsize=(12, 6))\n",
    "sns.barplot(x='Customer_Name', y='Amount', data=Top_10_Customers, palette='viridis')\n",
    "plt.title('Top 10 Customers by Total Spend')\n",
    "plt.xticks(rotation=45)\n",
    "plt.tight_layout()\n",
    "plt.savefig('C:/Users/ksa/Documents/Python projects/practice/Top_10_Customers.png')\n",
    "plt.show()"
   ]
  },
  {
   "cell_type": "code",
   "execution_count": null,
   "id": "1959a0bf",
   "metadata": {},
   "outputs": [],
   "source": [
    "plt.figure(figsize=(12, 6))\n",
    "# line graph of monthly sales\n",
    "sns.lineplot(x='Order_Month', y='Amount', data=monthly_sales, marker='o')\n",
    "plt.title('Monthly Sales Over Time')\n",
    "plt.xlabel('Month')\n",
    "plt.ylabel('Total Sales Amount')\n",
    "plt.xticks(rotation=45)\n",
    "plt.tight_layout()\n",
    "plt.savefig('C:/Users/ksa/Documents/Python projects/practice/Monthly_Sales.png')\n",
    "plt.show()"
   ]
  },
  {
   "cell_type": "code",
   "execution_count": null,
   "id": "4a32d20b",
   "metadata": {},
   "outputs": [],
   "source": [
    "import os\n",
    "import shutil\n",
    "\n",
    "# craete a folder if it does not exist\n",
    "if not os.path.exists('Results'):\n",
    "    os.makedirs('Results')\n",
    "    print(\"Results folder created.\")"
   ]
  },
  {
   "cell_type": "code",
   "execution_count": null,
   "id": "2dc0f4d0",
   "metadata": {},
   "outputs": [],
   "source": [
    "# Move the file to the Results folder\n",
    "for filename in ['Total_Spend.csv', 'Top_10_Customers.png', 'Monthly_Sales.png', 'Monthly_Sales.csv','processed_orders.csv','Customer Orders 2.csv']:\n",
    "    if os.path.exists(filename):\n",
    "        shutil.move(filename, os.path.join('Results', filename))\n",
    "        print(f\"{filename} moved to Results folder.\")"
   ]
  }
 ],
 "metadata": {
  "kernelspec": {
   "display_name": "base",
   "language": "python",
   "name": "python3"
  },
  "language_info": {
   "codemirror_mode": {
    "name": "ipython",
    "version": 3
   },
   "file_extension": ".py",
   "mimetype": "text/x-python",
   "name": "python",
   "nbconvert_exporter": "python",
   "pygments_lexer": "ipython3",
   "version": "3.13.5"
  }
 },
 "nbformat": 4,
 "nbformat_minor": 5
}
